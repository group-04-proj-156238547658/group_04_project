{
 "cells": [
  {
   "cell_type": "code",
   "execution_count": 1,
   "id": "c020afc0",
   "metadata": {},
   "outputs": [
    {
     "name": "stderr",
     "output_type": "stream",
     "text": [
      "IOPub data rate exceeded.\n",
      "The notebook server will temporarily stop sending output\n",
      "to the client in order to avoid crashing it.\n",
      "To change this limit, set the config variable\n",
      "`--NotebookApp.iopub_data_rate_limit`.\n",
      "\n",
      "Current values:\n",
      "NotebookApp.iopub_data_rate_limit=1000000.0 (bytes/sec)\n",
      "NotebookApp.rate_limit_window=3.0 (secs)\n",
      "\n"
     ]
    }
   ],
   "source": [
    "import pickle\n",
    "\n",
    "# Load the dataset from the .pickle file\n",
    "with open('final_dataset.pickle', 'rb') as file:\n",
    "    loaded_data = pickle.load(file)\n",
    "\n",
    "# Use the loaded data\n",
    "#print(loaded_data)\n"
   ]
  },
  {
   "cell_type": "code",
   "execution_count": 8,
   "id": "7c1f28ca",
   "metadata": {},
   "outputs": [
    {
     "name": "stdout",
     "output_type": "stream",
     "text": [
      "13364\n"
     ]
    }
   ],
   "source": [
    "count_zeros = 0\n",
    "for sublist in loaded_data:\n",
    "    if sublist[1] == 0:\n",
    "        count_zeros += 1\n",
    "    \n",
    "print(len(loaded_data))"
   ]
  },
  {
   "cell_type": "code",
   "execution_count": null,
   "id": "46f25018",
   "metadata": {},
   "outputs": [],
   "source": []
  }
 ],
 "metadata": {
  "kernelspec": {
   "display_name": "Python 3 (ipykernel)",
   "language": "python",
   "name": "python3"
  },
  "language_info": {
   "codemirror_mode": {
    "name": "ipython",
    "version": 3
   },
   "file_extension": ".py",
   "mimetype": "text/x-python",
   "name": "python",
   "nbconvert_exporter": "python",
   "pygments_lexer": "ipython3",
   "version": "3.10.9"
  }
 },
 "nbformat": 4,
 "nbformat_minor": 5
}
