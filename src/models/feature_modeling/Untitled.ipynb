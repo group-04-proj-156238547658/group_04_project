{
 "cells": [
  {
   "cell_type": "code",
   "execution_count": 1,
   "id": "cc1f4a22",
   "metadata": {},
   "outputs": [
    {
     "name": "stdout",
     "output_type": "stream",
     "text": [
      "1336\n"
     ]
    }
   ],
   "source": [
    "import pickle\n",
    "\n",
    "# Load the dataset from the .pickle file\n",
    "with open('testing_featureset.pickle', 'rb') as file:\n",
    "    loaded_data = pickle.load(file)\n",
    "\n",
    "# Use the loaded data\n",
    "print(len(loaded_data))"
   ]
  },
  {
   "cell_type": "code",
   "execution_count": null,
   "id": "3696e3ea",
   "metadata": {},
   "outputs": [],
   "source": []
  }
 ],
 "metadata": {
  "kernelspec": {
   "display_name": "Python 3 (ipykernel)",
   "language": "python",
   "name": "python3"
  },
  "language_info": {
   "codemirror_mode": {
    "name": "ipython",
    "version": 3
   },
   "file_extension": ".py",
   "mimetype": "text/x-python",
   "name": "python",
   "nbconvert_exporter": "python",
   "pygments_lexer": "ipython3",
   "version": "3.10.9"
  }
 },
 "nbformat": 4,
 "nbformat_minor": 5
}
